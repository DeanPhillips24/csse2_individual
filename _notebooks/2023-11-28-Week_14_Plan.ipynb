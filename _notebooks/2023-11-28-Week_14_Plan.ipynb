{
 "cells": [
  {
   "cell_type": "code",
   "execution_count": null,
   "metadata": {},
   "outputs": [],
   "source": [
    "---\n",
    "title: Week 14 Plan\n",
    "layout: post\n",
    "description: Our goals and plans on what we want to accomplish in Week 14\n",
    "type: ccc\n",
    "courses: {csse: {week: 14}}\n",
    "---"
   ]
  },
  {
   "cell_type": "markdown",
   "metadata": {},
   "source": [
    "# Monday\n",
    "Review work we did before break to prepare for Tuesday's live review. Work on new animation to get ahead.\n",
    "\n",
    "# Tuesday\n",
    "Proceed with Live Review and continue work on Dynamic Game Levels while also making a new Lopez animation. \n",
    "\n",
    "# Wednesday\n",
    "Debugging of Dynamic Game Levels, continue Lopez attack sprite animation. \n",
    "\n",
    "# Thursday\n",
    "Create an enemy sprite with animations of damage taking and death.\n",
    "\n",
    "# Friday\n",
    "Finalize new Lopez sprite animations and new enemy sprite."
   ]
  }
 ],
 "metadata": {
  "language_info": {
   "name": "python"
  },
  "orig_nbformat": 4
 },
 "nbformat": 4,
 "nbformat_minor": 2
}
