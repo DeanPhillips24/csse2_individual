{
 "cells": [
  {
   "cell_type": "code",
   "execution_count": null,
   "metadata": {},
   "outputs": [],
   "source": [
    "---\n",
    "title: Individual Review\n",
    "layout: post\n",
    "description: Trimester Summary \n",
    "type: ccc\n",
    "courses: {csse: {week: 12}}\n",
    "---"
   ]
  },
  {
   "cell_type": "markdown",
   "metadata": {},
   "source": [
    "## Individual Code\n",
    "\n",
    "While my biggest part of the game project was my involvement with the artwork, I did also work a lot with the music, dialogue, and collisions for the game. \n",
    "\n",
    "Code that I did: \n",
    "[Music](https://deanphillips24.github.io/DeanPhillips24//2023/10/19/Music_Test_IPYNB_2_.html) <br><br>\n",
    "\n",
    "[Dialogue](https://deanphillips24.github.io/DeanPhillips24//2023/10/19/Music_Test_IPYNB_2_.html) <br><br>\n",
    "\n",
    "[Collisions](https://tvick22.github.io/MORTal_Combat_Game/2023/11/02/New_Game.html) <br><br>\n",
    "\n",
    "[Web Basics](https://deanphillips24.github.io/DeanPhillips24//2023/08/28/basics-home_IPYNB_2_.html) <br><br>\n",
    "\n",
    "[Calculator](https://deanphillips24.github.io/DeanPhillips24//2023/09/19/JS_Input.html) <br><br>\n",
    "\n",
    "Over the trimester, these all led up to my basic understanding of JavaScript and HTML.\n",
    "\n",
    "## Key Commits\n",
    "The biggest commit of the trimester was my debug for the game background and collisions. On October 30th, I spent around 4 hours mapping out the collisions on a few maps, but ran into a problem. When I tried testing the collisions out, on certain maps, the Lopez sprite would completely vanish upon moving. <br><br>\n",
    "\n",
    "This was my first time \"debugging\", so I decided to try and isolate everything that could be a factor. I consulted ChatGPT first, but it could not provide any answers. So, I made a copy of the current code and started removing things one by one, and running make to see if it would work or not. For example, the first thing I removed was the collisions on the affected maps, and testing to see if Lopez sprite would disappear or not. He did, so I came to the conclusion that the collisions were not the problem. Therefore, they could be implemented back in, and it was time to move on to the next factor. <br><br>\n",
    "\n",
    "I went through this process in the different backgrounds, trying different images, and trying to change the movement script. In the end, it turns out the problem was the sprite scale factor. I changed it, and now Lopez sprite would not disappear. <br><br>\n",
    "\n",
    "## Features That Did Not Make the Game\n",
    "Battles <br><br>\n",
    "Safin NPC <br><br>\n",
    "Map Button <br><br>\n",
    "\n",
    "We realized that working on these would take too much of our time, so they did not make the game. \n",
    "\n"
   ]
  },
  {
   "cell_type": "markdown",
   "metadata": {},
   "source": [
    "## Individual Blog Summary\n",
    "Over the course of the trimester, I have learned a lot about working with JavaScript and HTML. I have documented all of the things that I have done and learned in my time box through the use of hacks, weekly plans and summaries, and even placing my own test versions of our game in my own repository. \n",
    "\n",
    "## Things I learned:\n",
    "ChatGPT with coding, basics of JS and HTML, integrating them together, pulling from different scripts, etc. \n",
    "\n",
    "## Things I want to Learn:\n",
    "How to protect my code from others. I am looking to go into Cyber Security in the future, so this will probably relate a lot to what I'm doing, whether it be protecting networks, companies, files, or objects of interest. "
   ]
  }
 ],
 "metadata": {
  "language_info": {
   "name": "python"
  },
  "orig_nbformat": 4
 },
 "nbformat": 4,
 "nbformat_minor": 2
}
