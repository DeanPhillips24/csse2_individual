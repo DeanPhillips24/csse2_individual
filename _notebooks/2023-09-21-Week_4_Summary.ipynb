{
 "cells": [
  {
   "cell_type": "code",
   "execution_count": null,
   "metadata": {},
   "outputs": [],
   "source": [
    "---\n",
    "comments: True\n",
    "layout: post\n",
    "title: Week 4 Summary\n",
    "description: Week 4's Findings\n",
    "type: ccc\n",
    "courses: {'csse': {'week': 4}, 'csp': {'week': 0}, 'csa': {'week': 0}}\n",
    "---"
   ]
  },
  {
   "cell_type": "markdown",
   "metadata": {},
   "source": [
    "## Week 4 Summary\n",
    "In this week, I was able to start on the JS Input calculator and Calculator. Edits on the JS Input calculator were slow, but I was able to make a lot of edits on the main Calculator. The first edit I made was adding the division operation, and then the square root operation with my Agile Methodology group. I tried doing a pi variable on my own, but was not able to figure it out. \n",
    "\n",
    "Other than the calculators, I put all my work in folders to better organize my repository, but they all disappeared from my schedule so I reverted this change. I think that this is because system was having trouble pulling my files, probably due them being in a folder. For example, it would be pulling from my /notebooks/filename, but then it was having trouble because I didn't tell it to pull from /notebook/weekfolder/filename. "
   ]
  }
 ],
 "metadata": {
  "language_info": {
   "name": "python"
  },
  "orig_nbformat": 4
 },
 "nbformat": 4,
 "nbformat_minor": 2
}
