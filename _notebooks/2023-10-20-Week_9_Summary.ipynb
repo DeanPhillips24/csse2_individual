{
 "cells": [
  {
   "cell_type": "code",
   "execution_count": null,
   "metadata": {},
   "outputs": [],
   "source": [
    "---\n",
    "title: Week 9 Summary\n",
    "layout: post\n",
    "description: Week 9's findings and work\n",
    "type: ccc\n",
    "courses: {csse: {week: 9}}\n",
    "---"
   ]
  },
  {
   "cell_type": "markdown",
   "metadata": {},
   "source": [
    "## Week 9 Summary\n",
    "This week, we were able to get a lot of backend work done. Nate and Trevor were able to figure out collisions, which involved using dimensions in pixels, while also using the character sprite's dimensions in pixels to collide with invisible blocks on those dimensions. \n",
    "\n",
    "We also learned a lot about using classes, which would be the foundation for changing backgrounds and corresponding music. This is also going ot help us with interactions, like talking to NPCs or objects to obtain information. \n",
    "\n",
    "The collisions are helping us lead to hitboxes, while at the same time mapping out the backdrops to have collision areas. \n",
    "\n",
    "On the more frontend side, we were able to start testing music, which will be integrated by classes with the backdrops in different areas. Essentially, different soundtracks for different backgrounds. We also had some trouble with the sprite sizes, so a new sprite sheet was made with more space in between each sprite to prevent overlap of different frames. "
   ]
  }
 ],
 "metadata": {
  "language_info": {
   "name": "python"
  },
  "orig_nbformat": 4
 },
 "nbformat": 4,
 "nbformat_minor": 2
}
