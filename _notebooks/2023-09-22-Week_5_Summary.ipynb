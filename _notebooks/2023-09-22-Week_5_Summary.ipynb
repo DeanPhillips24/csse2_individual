{
 "cells": [
  {
   "cell_type": "code",
   "execution_count": null,
   "metadata": {},
   "outputs": [],
   "source": [
    "---\n",
    "comments: True\n",
    "layout: post\n",
    "title: Week 5 Summary\n",
    "description: Week 5's Findings\n",
    "type: ccc\n",
    "courses: {'csse': {'week': 5}, 'csp': {'week': 0}, 'csa': {'week': 0}}\n",
    "---"
   ]
  },
  {
   "cell_type": "markdown",
   "metadata": {},
   "source": [
    "## Week 5 Summary\n",
    "This week, I worked a lot on the calculators, preparing for the Calculator Review on Wednesday. This included working with my teammates outside of class, working with friends from CSA to figure out how to make the JS Input Calculator do what I wanted it to do. We had trouble though, so we turned to ChatGPT to help out, which made a script to make a new Grade Calculator that took the average of two values (grades) inputted. \n",
    "\n",
    "One problem I encountered with this was that there was no way to actually make it take the average, so I tried to make it so that pressing enter would run this, but this did not work. So, I tried making a button that would make it take the average, which also did not work. Mr. Lopez and I figured out that it might have something to do with the average value already being set to a placeholder dash, or because they are const's. \n",
    "\n",
    "While working with agile methodology, the other part of my team was working with the main calculator. They made a ton of edits to it, adding in keyboard compatibility, removing bugs like pressing the equals button multiple times and it keeps going, to even helping me add more functions to the calculator. \n",
    "\n",
    "One thing none of us could figure out was how to get the animations in the background to show up. We figured out that we had to move the style and VANTA files over to our repositories from the teacher repository, but this was not all. I helped my group figure out that we had to change where the animatinos were being pulled from, which was the teacher repository. So, we changed the /teacher to ~~{{site.baseurl}}. \n",
    "\n",
    "After running the make command, I thought that all the problems would be fixed, but this was not the case. The animations still wouldn't show up, so after further looking into it with my CSA friend, we realized that the VANTA files were encrypted (one long line of code) and probably wouldn't show up because we didn't have the license to use them. "
   ]
  }
 ],
 "metadata": {
  "language_info": {
   "name": "python"
  },
  "orig_nbformat": 4
 },
 "nbformat": 4,
 "nbformat_minor": 2
}
