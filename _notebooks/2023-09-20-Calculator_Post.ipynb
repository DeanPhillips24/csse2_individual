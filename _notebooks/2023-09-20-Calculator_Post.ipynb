{
 "cells": [
  {
   "cell_type": "code",
   "execution_count": null,
   "metadata": {},
   "outputs": [],
   "source": [
    "---\n",
    "comments: True\n",
    "layout: post\n",
    "title: Calculator Findings\n",
    "description: Calculator Findings\n",
    "type: ccc\n",
    "courses: {'csse': {'week': 5}, 'csp': {'week': 0}, 'csa': {'week': 0}}\n",
    "---"
   ]
  },
  {
   "cell_type": "markdown",
   "metadata": {},
   "source": [
    "## JS Input Calculator Summary\n",
    "After doing both assignments involving the JS Input Calculator and the regular Calculator, we were able to make changes in some areas, while in some, we were unsuccessful. \n",
    "In the JS Input Calculator, I was able to find out how to make an average of the two values inputted by the user with the help of my group, ChatGPT, and CSA friends. With this, I modified the JS Input calculator to include changes such as a table, and making it out of 2, but I encountered problems. I used inspect element and the console to look at the problems and fix them one by one, however my changes would not appear on the calculator. So, I used ChatGPT to help develop a new calculator that would utilize columns and commands to take the average of two inputted values. "
   ]
  },
  {
   "cell_type": "markdown",
   "metadata": {},
   "source": [
    "## Calculator Summary\n",
    "Together with my group, we were able to make changes to the calculator. This included division, square root, and exponents. After we figured these out, we were able to change the background colors of the calculator buttons, and move different buttons to different rows to our liking. \n",
    "\n",
    "The biggest problem I encountered was using the background animations. We were all able to move over the VANTA animations from the teacher repository, however, this was not the only thing we had to do. With the help of a friend in CSA, we figured out that the reason the animations were not appearing on the local server and Github.io was because the animations were being pulled from the teacher repository. So, we could change the /teacher to {{site.baseurl}} in order for it to pull the animations from our own repositories. \n",
    "\n",
    "Experimenting with this, I ran the make command to run the blog on the local server, only to find that they would still not appear. Utilizing inspect element's console to figure out where the problems were, it was evident they were coming from the VANTA animations. The conclusion we came to was that they were unable to be modified because they were encrypted, likely because we did not have the license to use the animations.\n",
    "\n",
    "The last problem we encountered was trying to do the right justify, and using the runtime. I figured out where I needed to change the code to justify from center to right, but this just would not work when I ran the blog. We were also unable to figure out the runtime, however it may have been too advanced for us, because we were not knowledgable on how to save our data locally. In this scenario, it would be saving values inputted into the calculator on a local server in our repository, but we were unable to do this. "
   ]
  }
 ],
 "metadata": {
  "language_info": {
   "name": "python"
  },
  "orig_nbformat": 4
 },
 "nbformat": 4,
 "nbformat_minor": 2
}
