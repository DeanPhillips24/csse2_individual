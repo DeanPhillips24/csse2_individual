{
 "cells": [
  {
   "cell_type": "code",
   "execution_count": null,
   "metadata": {},
   "outputs": [],
   "source": [
    "---\n",
    "comments: True\n",
    "layout: post\n",
    "title: Web Basics Test Review Ticket\n",
    "description: Summary of my work in the Web Programming Basics\n",
    "type: ccc\n",
    "courses: {'csse': {'week': 6}, 'csp': {'week': 0}, 'csa': {'week': 0}}\n",
    "---"
   ]
  },
  {
   "cell_type": "markdown",
   "metadata": {},
   "source": [
    "## Basics Home\n",
    "\n",
    "I started my work with the reading of the Basics Home ipynb. I used this as a base for my understanding of HTML and JS, which would carry into my first assignment. Doing the HTML Basics involved creating a paragraph, links, and button with HTML. This was a simple task, as I followed the instructions above. I am thankful for Safin and Rohan creating these lessons pretty much like a dictionary, defining what does what, and how they interact with each other. \n",
    "\n",
    "## Basics of JavaScript\n",
    "The next lesson I did was the Basics of JS. The Basics of JS lesson was a tech talk on what JavaScript does, and how I can use it to do what I want it to do. The hack for this lesson was to define two variables and give them a value, which would run a function to tell whether one was greater/less than the other, or if they were equal to each other. \n",
    "Running it in the Jupyter Notebook will not show the results, so I had to toggle the Developer Console in VSCode and clear all outputs Jupyter Notebook so that the console can re-display the result of whether Variable A was greater than, less than, or equal to Variable B.\n",
    "\n",
    "## Basics of JavaScript with HTML\n",
    "After finishing the Basics of JS, I worked on Basics of JS with HTML. This lesson talked about how you can use JavaScript and HTML at the same time, which was pretty much writing with functions and commands. With the help of  CSA friend, I was able to make a button that changed the two links, and gave an output that changed the text in the innerHTML to say \"Switched!\".\n",
    "\n",
    "## Basics of JavaScript DataTypes and Lists\n",
    "Things I did with the DataTypes and Lists were difficult, but the outputs involved using my name, age, classes, hobbies, and favorite numbers. I had to get ChatGPT to help me, but together we made arrays that gave Mathematical Operations for Average age per class, sum of my favorite numbers, and the remainder after dividing that sum by the number of total classes. \n",
    "\n",
    "## Basics of JavaScript Errors\n",
    "With the help of ChatGPT, I was able to correct a lot of the errors in the JavaScript. Some of them dealt with the alphabet not appearing as an output, making the alphabet functions make an output saying \"e is the 5th letter number of the alphabet\", and even fixing a mistake of duplicating numbers in a 1-100 output. I was unable to do the challenge because I had to prioritize other homework and sleep for the next day. "
   ]
  }
 ],
 "metadata": {
  "language_info": {
   "name": "python"
  },
  "orig_nbformat": 4
 },
 "nbformat": 4,
 "nbformat_minor": 2
}
