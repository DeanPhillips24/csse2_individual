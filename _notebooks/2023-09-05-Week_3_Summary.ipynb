{
 "cells": [
  {
   "cell_type": "code",
   "execution_count": null,
   "metadata": {},
   "outputs": [],
   "source": [
    "---\n",
    "comments: True\n",
    "layout: post\n",
    "title: Week 3 Summary\n",
    "description: Week 3's findings\n",
    "type: ccc\n",
    "courses: {'csse': {'week': 3}, 'csp': {'week': 0}, 'csa': {'week': 0}}\n",
    "---"
   ]
  },
  {
   "cell_type": "markdown",
   "metadata": {},
   "source": [
    "## Dean Blog Lab Notebook\n",
    "\n",
    "# Week 3:\n",
    "9/5-9/8 - I was able to start editing my Snake Game last week, but was able to finalize them this week.\n",
    "\n",
    "The changes included changing the background color, and changing the color of both the apple and the snake.\n",
    "\n",
    "I was also able to start learning about what my Jupyter notebook does, which is for running HTML code on my blog. \n",
    "\n",
    "As a pair, we were able to figure out how to run a bash command in VSCode, which was able to appear on our Time Box."
   ]
  }
 ],
 "metadata": {
  "language_info": {
   "name": "python"
  },
  "orig_nbformat": 4
 },
 "nbformat": 4,
 "nbformat_minor": 2
}
