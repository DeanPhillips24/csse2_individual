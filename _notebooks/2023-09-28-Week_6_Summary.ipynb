{
 "cells": [
  {
   "cell_type": "code",
   "execution_count": null,
   "metadata": {},
   "outputs": [],
   "source": [
    "---\n",
    "comments: True\n",
    "layout: post\n",
    "title: Week 6 Summary\n",
    "description: Week 6's Findings\n",
    "type: ccc\n",
    "courses: {'csse': {'week': 6}, 'csp': {'week': 0}, 'csa': {'week': 0}}\n",
    "---"
   ]
  },
  {
   "cell_type": "markdown",
   "metadata": {},
   "source": [
    "## Week 6 Summary\n",
    "This week, I worked a lot on my JS Sprite Animation and the Web Programming Basics. I learned a lot about JavaScript and HTML, and am more confident in my abilities because I have a larger background with more experiences to pull from when dealing with problems and assignments. \n",
    "\n",
    "One of the many problems I encountered was putting all of my Web Programming Basics files on my schedule, which they're not supposed to be. They're all supposed to be accessible from the Web Basics Home. I figured out how to fix this, and this is because I modified the frontmatter to be my own. For all of my assignments, I always copy paste the frontmatter from a past ipynb or md file to keep the new one consistent. I think I could have kept this for the Web Programming Basics, however I still would have had to change the type to ccc, but most importantly, I needed the permalink. I figured this out because even if I had the files accessible from the Time Box schedule, they were not accessible from the Home and this is because the URL is essed up. Removing the permalink caused problems in trying to access the files. \n",
    "\n",
    "Moving forward, I am excited to make a game with some animation, and am hoping to make a visual novel style game with my team because of how fun it would be to make the images appear for the player, along with some animations during emotional scenes like laughing, crying, or even walking. "
   ]
  }
 ],
 "metadata": {
  "language_info": {
   "name": "python"
  },
  "orig_nbformat": 4
 },
 "nbformat": 4,
 "nbformat_minor": 2
}
