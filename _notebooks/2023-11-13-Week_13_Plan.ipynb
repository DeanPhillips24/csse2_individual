{
 "cells": [
  {
   "cell_type": "code",
   "execution_count": null,
   "metadata": {},
   "outputs": [],
   "source": [
    "---\n",
    "title: Week 13 Plan\n",
    "layout: post\n",
    "description: Our goals and plans on what we want to accomplish in Week 13\n",
    "type: ccc\n",
    "courses: {csse: {week: 13}}\n",
    "---"
   ]
  },
  {
   "cell_type": "markdown",
   "metadata": {},
   "source": [
    "# Monday\n",
    "Read over assigment on Slack. \n",
    "\n",
    "# Tuesday\n",
    "Begin assignment by creating a shared respository and move over assets from the teacher portfolio. \n",
    "\n",
    "# Wednesday\n",
    "Work on assignment, make changes to the repository (personalize it) and change game background.\n",
    "\n",
    "# Thursday\n",
    "Figure out how to change the Mario sprite to something that we want, as well as keep the character on the game background.\n",
    "\n",
    "# Friday\n",
    "Present our work to Mr. Mortensen. "
   ]
  }
 ],
 "metadata": {
  "language_info": {
   "name": "python"
  },
  "orig_nbformat": 4
 },
 "nbformat": 4,
 "nbformat_minor": 2
}
