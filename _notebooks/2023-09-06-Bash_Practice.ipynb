{
 "cells": [
  {
   "cell_type": "code",
   "execution_count": null,
   "metadata": {},
   "outputs": [],
   "source": [
    "---\n",
    "comments: true\n",
    "layout: post\n",
    "title: Bash Practice \n",
    "description: Practicing with Bash for the Pair Showcase\n",
    "type: ccc\n",
    "courses: { csse: {week: 3}, csp: {week: 0}, csa: {week: 0} }\n",
    "---"
   ]
  },
  {
   "cell_type": "code",
   "execution_count": 2,
   "metadata": {},
   "outputs": [
    {
     "data": {
      "text/html": [
       "<div id=\"bash-container\">\n",
       "    <div id=\"bash-output\"></div>\n",
       "    <textarea id=\"bash-input\" placeholder=\"Type your commands here\"></textarea>\n",
       "    <button id=\"run-button\">Run</button>\n",
       "</div>\n",
       "<script>\n",
       "    const bashContainer = document.getElementById('bash-container');\n",
       "    const bashOutput = document.getElementById('bash-output');\n",
       "    const bashInput = document.getElementById('bash-input');\n",
       "    const runButton = document.getElementById('run-button');\n",
       "\n",
       "\n",
       "    runButton.addEventListener('click', () => {\n",
       "        const command = bashInput.value;\n",
       "        executeBashCommand(command);\n",
       "});\n",
       "\n",
       "\n",
       "function executeBashCommand(command) {\n",
       "    fetch('/run-bash-command', {\n",
       "         method: 'POST',\n",
       "        body: JSON.stringify({ command }),\n",
       "        headers: {\n",
       "            'Content-Type': 'application/json',\n",
       "        },\n",
       "    })\n",
       "    .then(response => response.text())\n",
       "    .then(output => {\n",
       "        bashOutput.innerHTML = `<pre>${output}</pre>`;\n",
       "    })\n",
       "    .catch(error => {\n",
       "        bashOutput.innerHTML = `<pre>Error: ${error.message}</pre>`;\n",
       "     });\n",
       "    }\n",
       "</script>\n",
       "#!/bin/bash\n",
       "# Save this file as run-bash-command.sh\n",
       "# Make it executable: chmod +x run-bash-command.sh\n",
       "\n",
       "\n",
       "# Read the command from the request body\n",
       "read -r -d '' COMMAND\n",
       "echo \"Running command: $COMMAND\"\n",
       "\n",
       "\n",
       "# Execute the command and capture the output\n",
       "OUTPUT=$(eval \"$COMMAND\" 2>&1)\n",
       "echo \"$OUTPUT\"\n"
      ],
      "text/plain": [
       "<IPython.core.display.HTML object>"
      ]
     },
     "metadata": {},
     "output_type": "display_data"
    }
   ],
   "source": [
    "%%html\n",
    "<div id=\"bash-container\">\n",
    "    <div id=\"bash-output\"></div>\n",
    "    <textarea id=\"bash-input\" placeholder=\"Type your commands here\"></textarea>\n",
    "    <button id=\"run-button\">Run</button>\n",
    "</div>\n",
    "<script>\n",
    "    const bashContainer = document.getElementById('bash-container');\n",
    "    const bashOutput = document.getElementById('bash-output');\n",
    "    const bashInput = document.getElementById('bash-input');\n",
    "    const runButton = document.getElementById('run-button');\n",
    "\n",
    "\n",
    "    runButton.addEventListener('click', () => {\n",
    "        const command = bashInput.value;\n",
    "        executeBashCommand(command);\n",
    "});\n",
    "\n",
    "\n",
    "function executeBashCommand(command) {\n",
    "    fetch('/run-bash-command', {\n",
    "         method: 'POST',\n",
    "        body: JSON.stringify({ command }),\n",
    "        headers: {\n",
    "            'Content-Type': 'application/json',\n",
    "        },\n",
    "    })\n",
    "    .then(response => response.text())\n",
    "    .then(output => {\n",
    "        bashOutput.innerHTML = `<pre>${output}</pre>`;\n",
    "    })\n",
    "    .catch(error => {\n",
    "        bashOutput.innerHTML = `<pre>Error: ${error.message}</pre>`;\n",
    "     });\n",
    "    }\n",
    "</script>\n",
    "#!/bin/bash\n",
    "# Save this file as run-bash-command.sh\n",
    "# Make it executable: chmod +x run-bash-command.sh\n",
    "\n",
    "\n",
    "# Read the command from the request body\n",
    "read -r -d '' COMMAND\n",
    "echo \"Running command: $COMMAND\"\n",
    "\n",
    "\n",
    "# Execute the command and capture the output\n",
    "OUTPUT=$(eval \"$COMMAND\" 2>&1)\n",
    "echo \"$OUTPUT\"\n"
   ]
  },
  {
   "cell_type": "markdown",
   "metadata": {},
   "source": [
    "## Purpose of This\n",
    "This command will not necessarily run on VSCode, but hypotheitcally, it should allow me to run basic bash commands, such as ls, mkdir, etc. "
   ]
  }
 ],
 "metadata": {
  "kernelspec": {
   "display_name": "Python 3",
   "language": "python",
   "name": "python3"
  },
  "language_info": {
   "codemirror_mode": {
    "name": "ipython",
    "version": 3
   },
   "file_extension": ".py",
   "mimetype": "text/x-python",
   "name": "python",
   "nbconvert_exporter": "python",
   "pygments_lexer": "ipython3",
   "version": "3.10.12"
  },
  "orig_nbformat": 4
 },
 "nbformat": 4,
 "nbformat_minor": 2
}
