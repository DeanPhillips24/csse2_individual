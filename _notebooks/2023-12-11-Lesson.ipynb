{
 "cells": [
  {
   "cell_type": "code",
   "execution_count": null,
   "metadata": {},
   "outputs": [],
   "source": [
    "---\n",
    "comments: true\n",
    "layout: notebook\n",
    "title: Animation Lesson\n",
    "description: Lesson on adding animation to OOP Game\n",
    "type: ccc\n",
    "toc: true\n",
    "courses: { csse: {week: 15} }\n",
    "---"
   ]
  },
  {
   "cell_type": "markdown",
   "metadata": {},
   "source": [
    "# Basic Steps of Animation\n",
    "\n",
    "Below is a sprite of Mr. Lopez. This was the first sprite created for his spritesheet, which outlines the animation of his movement \n",
    "frame by frame.\n",
    "\n",
    "<img src=\"{{ site.baseurl }}/images/gameimages/1_lopez.png\" alt=\"1_lopez\" style=\"height: 138px; width: 156px\">"
   ]
  },
  {
   "cell_type": "markdown",
   "metadata": {},
   "source": [
    "Below is the spritesheet of Mr. Lopez. Each row has a different side of him, because in the project that we used this in, he was able to move freely in all 4 directions. His animation is simple, and depicts basic movement.\n",
    "\n",
    "<img src=\"{{ site.baseurl }}/images/gameimages/lopezspritesheet3.png\" alt=\"lopezspritesheet3\" style=\"height: 184px; width: 210px;\">"
   ]
  },
  {
   "cell_type": "markdown",
   "metadata": {},
   "source": [
    "The first change that we made to the spritesheet was the addition of Mr. Lopez's cane. This was done to show a simple difference in how sprites can appear in the game. Our next step in animation will be drawing new sprites for running and idle animation. \n",
    "\n",
    "<img src=\"{{ site.baseurl }}/images/gameimages/canelopezspritesheet.png\" alt=\"canelopezspritesheet\" style=\"height: 184px; width: 210px\">"
   ]
  },
  {
   "cell_type": "markdown",
   "metadata": {},
   "source": [
    "Below is the spritesheet of spritesheet with a few more rows for idle animation and running.\n",
    "\n",
    "<img src=\"{{ site.baseurl }}/images/gameimages/lopezanimation.png\" alt=\"lopezanimation\" style=\"height: 368; width: 732\">"
   ]
  },
  {
   "cell_type": "markdown",
   "metadata": {},
   "source": [
    "# Additions to Game Levels\n",
    "\n",
    "Adding new animations gives the player new capabilities. For example, drawing sprites for running allows the player to feel as if they are running in the game, rather than walking everywhere. \n",
    "\n",
    "In our code, running will be based on speed, so there will be different lines in the spritesheet corresponding to different speeds (i.e. row 1 = walking)."
   ]
  },
  {
   "cell_type": "markdown",
   "metadata": {},
   "source": [
    "# Step 1\n",
    "\n",
    "Download this image and change the file path to fit it. \n",
    "\n",
    "[Spritesheet Linked Here](https://github.com/DeanPhillips24/csse2_individual/blob/main/images/gameimages/lopezanimation.png)\n",
    "\n",
    "\n",
    "The code is very easy to modify with new animations. The biggest change would be the changing of rows and frames, which we will be changing next."
   ]
  },
  {
   "cell_type": "markdown",
   "metadata": {},
   "source": [
    "# Step 2\n",
    "\n",
    "Modify your rows in OOP-game-levels.md to match this. "
   ]
  },
  {
   "cell_type": "code",
   "execution_count": null,
   "metadata": {},
   "outputs": [],
   "source": [
    "w: { row: 3, frames: 4, idleFrame: { column: 1, frames: 0 } }, // Jump (Lopez faces away from player)\n",
    "                    \n",
    "a: { row: 1, frames: 4, idleFrame: { column: 1, frames: 0 } }, // Left movement key\n",
    "                    \n",
    "s: { }, // no action\n",
    "                    \n",
    "d: { row: 2, frames: 4, idleFrame: { column: 1, frames: 0 } }, // Right movement key"
   ]
  },
  {
   "cell_type": "markdown",
   "metadata": {},
   "source": [
    "# Step 3\n",
    "\n",
    "Make additions to the Player.js file. Add \"speedLimit\" here."
   ]
  },
  {
   "cell_type": "code",
   "execution_count": null,
   "metadata": {},
   "outputs": [],
   "source": [
    "export class Player extends Character {\n",
    "    // constructors sets up Character object \n",
    "    constructor(canvas, image, speedRatio, playerData, speedLimit) {\n",
    "        super(canvas, image, speedRatio, playerData.width, playerData.height);"
   ]
  },
  {
   "cell_type": "markdown",
   "metadata": {},
   "source": [
    "# Step 4\n",
    "\n",
    "Add this property of speedLimit just under your event listeners."
   ]
  },
  {
   "cell_type": "code",
   "execution_count": null,
   "metadata": {},
   "outputs": [],
   "source": [
    "// Additional Property for Speed Limit\n",
    "        this.speedLimit = speedLimit;\n",
    "        this.currentSpeed = 0;\n",
    "        this.acceleration = 0.11; // Adjust based on preference\n",
    "        this.deceleration = 0.1; // Adjust based on preference "
   ]
  },
  {
   "cell_type": "markdown",
   "metadata": {},
   "source": [
    "# Step 5\n",
    "\n",
    "Apply the speedLimit under the update function. "
   ]
  },
  {
   "cell_type": "code",
   "execution_count": null,
   "metadata": {},
   "outputs": [],
   "source": [
    "// Player updates\n",
    "    update() {\n",
    "        // Adjust speed based on pressed keys\n",
    "        if (this.pressedKeys['a'] && this.movement.left) {\n",
    "            this.currentSpeed -= this.acceleration;\n",
    "        } else if (this.pressedKeys['d'] && this.movement.right) {\n",
    "            this.currentSpeed += this.acceleration;\n",
    "        } else {\n",
    "            // Decelerate when no movement keys are pressed\n",
    "            this.currentSpeed *= (1 - this.deceleration);\n",
    "        }\n",
    "\n",
    "        // Apply speed limit\n",
    "        if (Math.abs(this.currentSpeed) > this.speedLimit) {\n",
    "            this.currentSpeed = this.currentSpeed > 0 ? this.speedLimit : -this.speedLimit;\n",
    "        }"
   ]
  }
 ],
 "metadata": {
  "kernelspec": {
   "display_name": "Python 3",
   "language": "python",
   "name": "python3"
  },
  "language_info": {
   "codemirror_mode": {
    "name": "ipython",
    "version": 3
   },
   "file_extension": ".py",
   "mimetype": "text/x-python",
   "name": "python",
   "nbconvert_exporter": "python",
   "pygments_lexer": "ipython3",
   "version": "3.10.12"
  },
  "orig_nbformat": 4
 },
 "nbformat": 4,
 "nbformat_minor": 2
}
