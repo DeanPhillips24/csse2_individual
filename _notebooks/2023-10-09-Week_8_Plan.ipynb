{
 "cells": [
  {
   "cell_type": "code",
   "execution_count": null,
   "metadata": {},
   "outputs": [],
   "source": [
    "---\n",
    "comments: True\n",
    "layout: post\n",
    "title: Week 8 Plan\n",
    "description: Plan of the Week\n",
    "type: ccc\n",
    "courses: {'csse': {'week': 8}, 'csp': {'week': 0}, 'csa': {'week': 0}}\n",
    "---"
   ]
  },
  {
   "cell_type": "markdown",
   "metadata": {},
   "source": [
    "## Week 8 Plan\n",
    "\n",
    "Monday: Work on animations, backdrops for game, and make textboxes for character dialogue. Other part of group working on back end things like keyboard compatibility, NPCs, collisions, interactable objects, etc.\n",
    "\n",
    "Tuesday: Have first test run available (walking around in lab), debugging.\n",
    "Right now we plan to have different backgrounds available to make a game map, along with other NPC sprites, keyboard compatibility (currently buttons), and starting to work on music. \n",
    "Something we plan to do is assign each area the player enters an ID so that this ID, when defined as true, will allow the music code to run. \n",
    "\n",
    "Wednesday: Project work/debugging.\n",
    "\n",
    "Thursday: Finalize all preparations needed for Feature Review next day\n",
    "\n",
    "Friday: Complete Feature Review, discuss plans for next week of work"
   ]
  }
 ],
 "metadata": {
  "language_info": {
   "name": "python"
  },
  "orig_nbformat": 4
 },
 "nbformat": 4,
 "nbformat_minor": 2
}
