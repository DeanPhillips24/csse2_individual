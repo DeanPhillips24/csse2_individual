{
 "cells": [
  {
   "cell_type": "code",
   "execution_count": null,
   "metadata": {},
   "outputs": [],
   "source": [
    "---\n",
    "title: Week 10 Summary\n",
    "layout: post\n",
    "description: Week 10's work and findings \n",
    "type: ccc\n",
    "courses: {csse: {week: 10}}\n",
    "---"
   ]
  },
  {
   "cell_type": "markdown",
   "metadata": {},
   "source": [
    "## Week 10 Summary\n",
    "Our group was able to figure out how to do collisions, and now our longest task is going to be mapping out collisions on every background so that the player cannot walk though walls, trees, tables, etc. On Wednesday, we were able to figure out how to change backgrounds by walking on a set of pixels (ex. on a carpet), which will then changeh the background and place the player in the new area. \n",
    "\n",
    "Next, all we have to do is do this for every background, and then add music changing automatically when changing areas. While we work on backgrounds and music, we also want to work on NPCs, which we believe we have all the assets for, and just need to implement and make code for. We have sprites for NPCs and images for textboxes, so now we just have to do something similar to the HTML assignment during the Web Programming Basics lesson that will make text appear when interacted with (pressing a key rather than a button).\n",
    "\n",
    "This game is really coming together, as we have an animation for the title screen. All we have to do now is assign the E key to interactions, and then we will be able to do all sorts of interactions including starting the game, talking to NPCs, inspecting bookshelves, etc. We are very hopeful for getting our Night at the Museum qualification, and providing a short game for people to play. "
   ]
  }
 ],
 "metadata": {
  "language_info": {
   "name": "python"
  },
  "orig_nbformat": 4
 },
 "nbformat": 4,
 "nbformat_minor": 2
}
