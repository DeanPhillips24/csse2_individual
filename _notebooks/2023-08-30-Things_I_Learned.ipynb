{
 "cells": [
  {
   "cell_type": "code",
   "execution_count": null,
   "metadata": {},
   "outputs": [],
   "source": [
    "---\n",
    "comments: true\n",
    "layout: post\n",
    "title: Week 2 Summary \n",
    "description: Week 2's findings\n",
    "type: ccc\n",
    "courses: { csse: {week: 2}, csp: {week: 0}, csa: {week: 0} }\n",
    "---"
   ]
  },
  {
   "cell_type": "markdown",
   "metadata": {},
   "source": [
    "## Dean Blog Lab Notebook\n",
    "\n",
    "# Week 2:\n",
    "8/28-9/1 - I was able to put my blog onto github.io, and figured out how to edit my notebooks. \n",
    "I was able to put the Snake Game on my notebook with ease, because of instruction and because it was a quick review of what I had learned previously. \n"
   ]
  }
 ],
 "metadata": {
  "kernelspec": {
   "display_name": "Python 3",
   "language": "python",
   "name": "python3"
  },
  "language_info": {
   "name": "python",
   "version": "3.10.12"
  },
  "orig_nbformat": 4
 },
 "nbformat": 4,
 "nbformat_minor": 2
}
