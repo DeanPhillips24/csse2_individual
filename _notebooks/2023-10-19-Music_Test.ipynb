{
 "cells": [
  {
   "cell_type": "code",
   "execution_count": null,
   "metadata": {},
   "outputs": [],
   "source": [
    "---\n",
    "comments: True\n",
    "layout: post\n",
    "title: Music Test\n",
    "description: Testing Music\n",
    "type: ccc\n",
    "courses: {'csse': {'week': 9}}\n",
    "---"
   ]
  },
  {
   "cell_type": "code",
   "execution_count": 2,
   "metadata": {},
   "outputs": [
    {
     "data": {
      "text/html": [
       "\n",
       "<head>\n",
       "    <!-- Add background music and control button -->\n",
       "    <audio id=\"backgroundMusic\" loop autoplay>\n",
       "        <source src=\"{{ site.baseurl }}/images/plug2919.mp3\" type=\"audio/mpeg\">\n",
       "        Your browser does not support the audio element.\n",
       "    </audio>\n",
       "\n",
       "    <button id=\"audioControlButton\">Toggle Music</button>\n",
       "</head>\n",
       "\n",
       "<html>\n",
       "    <div class=\"gameWrapper\">\n",
       "        <!-- Your existing code... -->\n",
       "    </div>\n",
       "</html>\n",
       "\n",
       "<script>\n",
       "    // Get the audio element and the control button by their IDs\n",
       "    const backgroundMusic = document.getElementById(\"backgroundMusic\");\n",
       "    const audioControlButton = document.getElementById(\"audioControlButton\");\n",
       "\n",
       "    // Function to toggle the audio (play/pause)\n",
       "    function toggleAudio() {\n",
       "        if (backgroundMusic.paused) {\n",
       "            backgroundMusic.play();\n",
       "        } else {\n",
       "            backgroundMusic.pause();\n",
       "        }\n",
       "    }\n",
       "\n",
       "    // Add a click event listener to the control button\n",
       "    audioControlButton.addEventListener(\"click\", toggleAudio);\n",
       "</script>\n"
      ],
      "text/plain": [
       "<IPython.core.display.HTML object>"
      ]
     },
     "metadata": {},
     "output_type": "display_data"
    }
   ],
   "source": [
    "%%html \n",
    "\n",
    "<head>\n",
    "    <!-- Add background music and control button -->\n",
    "    <audio id=\"backgroundMusic\" loop autoplay>\n",
    "        <source src=\"{{ site.baseurl }}/images/game/plug2919.mp3\" type=\"audio/mpeg\">\n",
    "        Your browser does not support the audio element.\n",
    "    </audio>\n",
    "\n",
    "    <button id=\"audioControlButton\">Toggle Music</button>\n",
    "</head>\n",
    "\n",
    "<html>\n",
    "    <div class=\"gameWrapper\">\n",
    "        <!-- Your existing code... -->\n",
    "    </div>\n",
    "</html>\n",
    "\n",
    "<script>\n",
    "    // Get the audio element and the control button by their IDs\n",
    "    const backgroundMusic = document.getElementById(\"backgroundMusic\");\n",
    "    const audioControlButton = document.getElementById(\"audioControlButton\");\n",
    "\n",
    "    // Function to toggle the audio (play/pause)\n",
    "    function toggleAudio() {\n",
    "        if (backgroundMusic.paused) {\n",
    "            backgroundMusic.play();\n",
    "        } else {\n",
    "            backgroundMusic.pause();\n",
    "        }\n",
    "    }\n",
    "\n",
    "    // Add a click event listener to the control button\n",
    "    audioControlButton.addEventListener(\"click\", toggleAudio);\n",
    "</script>"
   ]
  }
 ],
 "metadata": {
  "kernelspec": {
   "display_name": "Python 3",
   "language": "python",
   "name": "python3"
  },
  "language_info": {
   "codemirror_mode": {
    "name": "ipython",
    "version": 3
   },
   "file_extension": ".py",
   "mimetype": "text/x-python",
   "name": "python",
   "nbconvert_exporter": "python",
   "pygments_lexer": "ipython3",
   "version": "3.10.12"
  },
  "orig_nbformat": 4
 },
 "nbformat": 4,
 "nbformat_minor": 2
}
