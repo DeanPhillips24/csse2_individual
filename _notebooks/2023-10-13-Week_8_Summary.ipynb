{
 "cells": [
  {
   "cell_type": "code",
   "execution_count": null,
   "metadata": {},
   "outputs": [],
   "source": [
    "---\n",
    "comments: True\n",
    "layout: post\n",
    "title: Week 8 Summary\n",
    "description: Week 8's Findings\n",
    "type: ccc\n",
    "courses: {'csse': {'week': 8}}\n",
    "---"
   ]
  },
  {
   "cell_type": "markdown",
   "metadata": {},
   "source": [
    "## Week 8 Summary\n",
    "\n",
    "This week, we completed a lot of work on our game project. Starting with the story, I was able to develop a storyline for the game and document it in the repository's plans.md, as well as make a plan for the artwork. \n",
    "\n",
    "I was able to complete a multitude of things for the artwork side of the project. I was able to finish the Lopez and Mortensen sprites, finish editing multiple backgrounds for the game, create a title screen, find a textox, create a loading screen, and provide images for our interactions like doors and carpets. \n",
    "\n",
    "While I provided images for interactions, Andrew used these to work on making the interactions themselves. This meant assigning a key like E for interactions, and having a textbox pop up. We were told not to go too far with these, as we were going to work with objects in the future and integrating them may be difficult. \n",
    "\n",
    "The backend of our project had a lot of development as well. The first version of the game was able to ran on the local server and actually had the Lopez sprite moving around with keyboard compatibility. There is still lots of debugging that needs to happen, but we were very satisfied with our progress and several classmates were impressed. \n",
    "\n",
    "The future of this project is bright, and we are all very ambitious. We are already making a plan for next week, which includes finalizing music, making new sprites, finalizing collisions and hitboxes, and even making NPCs able to move on their own. "
   ]
  }
 ],
 "metadata": {
  "language_info": {
   "name": "python"
  },
  "orig_nbformat": 4
 },
 "nbformat": 4,
 "nbformat_minor": 2
}
