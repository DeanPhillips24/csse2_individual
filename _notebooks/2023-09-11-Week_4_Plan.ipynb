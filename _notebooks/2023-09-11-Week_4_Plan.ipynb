{
 "cells": [
  {
   "cell_type": "code",
   "execution_count": null,
   "metadata": {},
   "outputs": [],
   "source": [
    "---\n",
    "comments: True\n",
    "layout: post\n",
    "title: Week 4 Plan\n",
    "description: Week 4's Agenda\n",
    "type: ccc\n",
    "courses: {'csse': {'week': 4}, 'csp': {'week': 0}, 'csa': {'week': 0}}\n",
    "---"
   ]
  },
  {
   "cell_type": "markdown",
   "metadata": {},
   "source": [
    "## Dean Blog Lab Notebook\n",
    "\n",
    "# Week 4 Plan:\n",
    "Monday: Develop plan, do JS Input and Calculator\n",
    "\n",
    "Tuesday: Continue working on Calculator \n",
    "\n",
    "Wednesday: Group assignment on Agile Methodology, continue previous work if necessary\n",
    "\n",
    "Thursday: JS Outputs and debugging, continue previous work if necessary\n",
    "\n",
    "Friday: Finalize Calculator before the weekend"
   ]
  }
 ],
 "metadata": {
  "language_info": {
   "name": "python"
  },
  "orig_nbformat": 4
 },
 "nbformat": 4,
 "nbformat_minor": 2
}
