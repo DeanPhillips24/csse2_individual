{
 "cells": [
  {
   "cell_type": "code",
   "execution_count": null,
   "metadata": {},
   "outputs": [],
   "source": [
    "---\n",
    "title: Week 9 Plan\n",
    "layout: post\n",
    "description: Our goals and plans on what we want to accomplish in week 9 for development of our game\n",
    "type: ccc\n",
    "courses: {csse: {week: 9}}\n",
    "---"
   ]
  },
  {
   "cell_type": "markdown",
   "metadata": {},
   "source": [
    "## Plans by Group Member\n",
    "\n",
    "# Dean\n",
    "- Figure out how to implement music\n",
    "    - Upload .mp3 as our title music\n",
    "- Create portrait sprites that appear along with text boxes\n",
    "- Create Safin sprite\n",
    "- Animate the title screen\n",
    "\n",
    "# Andrew\n",
    "- Create some more base code that we can use for interactions\n",
    "    - This code will me made after our tech talks about using objects\n",
    "- Finalize a way for us to switch backgrounds \n",
    "\n",
    "# Trevor\n",
    "- Make Mort move on his own (npc)\n",
    "- Figure out the issue with sprites running off the screen\n",
    "\n",
    "# Nate\n",
    "- Develop code that amends our issues with collision\n",
    "    - This is also dependent on the objects tech talk\n",
    "- Create hitboxes for all of the characters"
   ]
  }
 ],
 "metadata": {
  "language_info": {
   "name": "python"
  },
  "orig_nbformat": 4
 },
 "nbformat": 4,
 "nbformat_minor": 2
}
