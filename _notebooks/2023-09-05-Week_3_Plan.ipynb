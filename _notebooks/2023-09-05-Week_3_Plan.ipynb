{
 "cells": [
  {
   "cell_type": "code",
   "execution_count": null,
   "metadata": {},
   "outputs": [],
   "source": [
    "---\n",
    "comments: True\n",
    "layout: post\n",
    "title: Week 3 Plan\n",
    "description: Week 3's Agenda\n",
    "type: ccc\n",
    "courses: {'csse': {'week': 3}, 'csp': {'week': 0}, 'csa': {'week': 0}}\n",
    "---"
   ]
  },
  {
   "cell_type": "markdown",
   "metadata": {},
   "source": [
    "## Dean Blog Lab Notebook\n",
    "\n",
    "# Week 3 Plan:\n",
    "Tuesday: Work on Plan, finding out how to make edits to my Jupyter notebook and finish editing Snake Game\n",
    "\n",
    "Wednesday: Finalize edits on Snake Game, continue editing Jupyter notebook, Bash commands\n",
    "\n",
    "Thursday: Finalize Jupyter notebook before Pair Showcase\n",
    "\n",
    "Friday: Do Pair Showcase, look onto next week's work and start formulating a plan"
   ]
  }
 ],
 "metadata": {
  "language_info": {
   "name": "python"
  },
  "orig_nbformat": 4
 },
 "nbformat": 4,
 "nbformat_minor": 2
}
