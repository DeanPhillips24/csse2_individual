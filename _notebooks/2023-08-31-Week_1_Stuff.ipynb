{
 "cells": [
  {
   "cell_type": "code",
   "execution_count": null,
   "metadata": {},
   "outputs": [],
   "source": [
    "---\n",
    "comments: true\n",
    "layout: post\n",
    "title: Week 1 Summary \n",
    "description: Week 1's findings\n",
    "type: ccc\n",
    "courses: { csse: {week: 1}, csp: {week: 0}, csa: {week: 0} }\n",
    "---"
   ]
  },
  {
   "cell_type": "markdown",
   "metadata": {},
   "source": [
    "## Dean Blog Lab Notebook\n",
    "\n",
    "# Week 1:\n",
    "8/21-8/25 - I was able to start saving my work and make my first edits on my blog. This included changing the theme, my first change of text, adding my first link, and adding my first image. \n",
    "\n",
    "With the help of a friend in CSA, I was able to resize my image and make it wide. Yippeee!!\n",
    "\n",
    "Since he helped me, I am able to show a picture of my friend Perell.\n",
    "<img src=\"{{site.baseurl}}/images/mind.jpg\" alt=\"mind\">"
   ]
  }
 ],
 "metadata": {
  "language_info": {
   "name": "python"
  },
  "orig_nbformat": 4
 },
 "nbformat": 4,
 "nbformat_minor": 2
}
